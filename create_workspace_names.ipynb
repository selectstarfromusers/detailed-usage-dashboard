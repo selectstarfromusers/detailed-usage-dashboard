{
 "cells": [
  {
   "cell_type": "code",
   "execution_count": 0,
   "metadata": {
    "application/vnd.databricks.v1+cell": {
     "cellMetadata": {
      "byteLimit": 2048000,
      "rowLimit": 10000
     },
     "inputWidgets": {},
     "nuid": "5864b296-1c35-41ae-8c71-d65866641140",
     "showTitle": true,
     "tableResultSettingsMap": {},
     "title": "Get widget values"
    }
   },
   "outputs": [],
   "source": [
    "# Get widget values\n",
    "wn_catalog = dbutils.widgets.get(\"wn_catalog\")\n",
    "wn_schema = dbutils.widgets.get(\"wn_schema\")\n",
    "wn_table = dbutils.widgets.get(\"wn_table\")"
   ]
  },
  {
   "cell_type": "code",
   "execution_count": 0,
   "metadata": {
    "application/vnd.databricks.v1+cell": {
     "cellMetadata": {
      "byteLimit": 2048000,
      "rowLimit": 10000
     },
     "inputWidgets": {},
     "nuid": "6db6b5cb-7335-41cf-a447-1fd52e82eef7",
     "showTitle": true,
     "tableResultSettingsMap": {},
     "title": "Create catalog if not exists"
    }
   },
   "outputs": [],
   "source": [
    "create_catalog_sql = f\"CREATE CATALOG IF NOT EXISTS {wn_catalog}\"\n",
    "spark.sql(create_catalog_sql)"
   ]
  },
  {
   "cell_type": "code",
   "execution_count": 0,
   "metadata": {
    "application/vnd.databricks.v1+cell": {
     "cellMetadata": {
      "byteLimit": 2048000,
      "rowLimit": 10000
     },
     "inputWidgets": {},
     "nuid": "3223f792-bd5a-4dc9-bedc-742cd66842ee",
     "showTitle": true,
     "tableResultSettingsMap": {},
     "title": "Create schema if not exists"
    }
   },
   "outputs": [],
   "source": [
    "create_schema_sql = f\"CREATE SCHEMA IF NOT EXISTS {wn_catalog}.{wn_schema}\"\n",
    "spark.sql(create_schema_sql)"
   ]
  },
  {
   "cell_type": "code",
   "execution_count": 0,
   "metadata": {
    "application/vnd.databricks.v1+cell": {
     "cellMetadata": {
      "byteLimit": 2048000,
      "rowLimit": 10000
     },
     "inputWidgets": {},
     "nuid": "592a091b-af82-4110-959e-00663f3e46a5",
     "showTitle": true,
     "tableResultSettingsMap": {},
     "title": "Create table if not exists"
    }
   },
   "outputs": [],
   "source": [
    "full_table_name = f\"{wn_catalog}.{wn_schema}.{wn_table}\"\n",
    "create_table_sql = f\"\"\"\n",
    "CREATE TABLE IF NOT EXISTS {full_table_name} (\n",
    "  workspace_name STRING,\n",
    "  workspace_id STRING\n",
    ")\n",
    "USING delta\n",
    "\"\"\"\n",
    "spark.sql(create_table_sql)"
   ]
  },
  {
   "cell_type": "code",
   "execution_count": 0,
   "metadata": {
    "application/vnd.databricks.v1+cell": {
     "cellMetadata": {
      "byteLimit": 2048000,
      "rowLimit": 10000
     },
     "inputWidgets": {},
     "nuid": "afaa53ea-8277-418d-a5d5-032e6d2bbf77",
     "showTitle": true,
     "tableResultSettingsMap": {},
     "title": "Query the table"
    }
   },
   "outputs": [],
   "source": [
    "df = spark.table(full_table_name)\n",
    "display(df)"
   ]
  },
  {
   "cell_type": "markdown",
   "metadata": {
    "application/vnd.databricks.v1+cell": {
     "cellMetadata": {},
     "inputWidgets": {},
     "nuid": "b3f9251d-ae5d-43da-bb10-8028babf0c8d",
     "showTitle": false,
     "tableResultSettingsMap": {},
     "title": ""
    }
   },
   "source": [
    "The table is empty, but when you populate it with workspace ids and the corresponding workspace names the dashboards will update."
   ]
  }
 ],
 "metadata": {
  "application/vnd.databricks.v1+notebook": {
   "computePreferences": null,
   "dashboards": [],
   "environmentMetadata": null,
   "language": "python",
   "notebookMetadata": {
    "pythonIndentUnit": 2,
    "sqlQueryOptions": {
     "applyAutoLimit": false,
     "catalog": "main",
     "schema": "default"
    }
   },
   "notebookName": "create_workspace_names",
   "widgets": {
    "wn_catalog": {
     "currentValue": "dbdemos",
     "nuid": "d7fed878-8eba-42aa-bf00-e3cda2e178e8",
     "typedWidgetInfo": {
      "autoCreated": false,
      "defaultValue": "",
      "label": "",
      "name": "wn_catalog",
      "options": {
       "widgetDisplayType": "Text",
       "validationRegex": null
      },
      "parameterDataType": "String"
     },
     "widgetInfo": {
      "widgetType": "text",
      "defaultValue": "",
      "label": "",
      "name": "wn_catalog",
      "options": {
       "widgetType": "text",
       "autoCreated": false,
       "validationRegex": null
      }
     }
    },
    "wn_schema": {
     "currentValue": "lookup",
     "nuid": "a552888d-5ef4-4c81-9ac5-351ce16cd0ba",
     "typedWidgetInfo": {
      "autoCreated": true,
      "defaultValue": "",
      "label": null,
      "name": "wn_schema",
      "options": {
       "widgetDisplayType": "Text",
       "validationRegex": null
      },
      "parameterDataType": "String"
     },
     "widgetInfo": {
      "widgetType": "text",
      "defaultValue": "",
      "label": null,
      "name": "wn_schema",
      "options": {
       "widgetType": "text",
       "autoCreated": true,
       "validationRegex": null
      }
     }
    },
    "wn_table": {
     "currentValue": "workspace_names",
     "nuid": "7ce58411-ec3e-4bb5-9056-49304a18612a",
     "typedWidgetInfo": {
      "autoCreated": true,
      "defaultValue": "",
      "label": null,
      "name": "wn_table",
      "options": {
       "widgetDisplayType": "Text",
       "validationRegex": null
      },
      "parameterDataType": "String"
     },
     "widgetInfo": {
      "widgetType": "text",
      "defaultValue": "",
      "label": null,
      "name": "wn_table",
      "options": {
       "widgetType": "text",
       "autoCreated": true,
       "validationRegex": null
      }
     }
    }
   }
  },
  "language_info": {
   "name": "python"
  }
 },
 "nbformat": 4,
 "nbformat_minor": 0
}
